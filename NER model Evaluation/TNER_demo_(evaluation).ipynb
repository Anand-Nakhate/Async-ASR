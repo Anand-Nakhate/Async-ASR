{
  "nbformat": 4,
  "nbformat_minor": 0,
  "metadata": {
    "colab": {
      "name": "TNER demo (evaluation).ipynb",
      "provenance": [],
      "collapsed_sections": [
        "7sUSplR4e3sJ"
      ],
      "toc_visible": true
    },
    "kernelspec": {
      "name": "python3",
      "display_name": "Python 3"
    },
    "accelerator": "GPU",
    "widgets": {
      "application/vnd.jupyter.widget-state+json": {
        "8992c461f4944ee0805b49c8c8bff113": {
          "model_module": "@jupyter-widgets/controls",
          "model_name": "HBoxModel",
          "state": {
            "_view_name": "HBoxView",
            "_dom_classes": [],
            "_model_name": "HBoxModel",
            "_view_module": "@jupyter-widgets/controls",
            "_model_module_version": "1.5.0",
            "_view_count": null,
            "_view_module_version": "1.5.0",
            "box_style": "",
            "layout": "IPY_MODEL_9f385dbf54e4454ba2053e1be22fe121",
            "_model_module": "@jupyter-widgets/controls",
            "children": [
              "IPY_MODEL_7f23bcb4fb8e4d9097631372ab90eccf",
              "IPY_MODEL_d4a852d41a174d5ab630e7336d143bf2"
            ]
          },
          "model_module_version": "1.5.0"
        },
        "9f385dbf54e4454ba2053e1be22fe121": {
          "model_module": "@jupyter-widgets/base",
          "model_name": "LayoutModel",
          "state": {
            "_view_name": "LayoutView",
            "grid_template_rows": null,
            "right": null,
            "justify_content": null,
            "_view_module": "@jupyter-widgets/base",
            "overflow": null,
            "_model_module_version": "1.2.0",
            "_view_count": null,
            "flex_flow": null,
            "width": null,
            "min_width": null,
            "border": null,
            "align_items": null,
            "bottom": null,
            "_model_module": "@jupyter-widgets/base",
            "top": null,
            "grid_column": null,
            "overflow_y": null,
            "overflow_x": null,
            "grid_auto_flow": null,
            "grid_area": null,
            "grid_template_columns": null,
            "flex": null,
            "_model_name": "LayoutModel",
            "justify_items": null,
            "grid_row": null,
            "max_height": null,
            "align_content": null,
            "visibility": null,
            "align_self": null,
            "height": null,
            "min_height": null,
            "padding": null,
            "grid_auto_rows": null,
            "grid_gap": null,
            "max_width": null,
            "order": null,
            "_view_module_version": "1.2.0",
            "grid_template_areas": null,
            "object_position": null,
            "object_fit": null,
            "grid_auto_columns": null,
            "margin": null,
            "display": null,
            "left": null
          },
          "model_module_version": "1.2.0"
        },
        "7f23bcb4fb8e4d9097631372ab90eccf": {
          "model_module": "@jupyter-widgets/controls",
          "model_name": "FloatProgressModel",
          "state": {
            "_view_name": "ProgressView",
            "style": "IPY_MODEL_55a167521a56427ca879a63ddddda90e",
            "_dom_classes": [],
            "description": "Downloading: 100%",
            "_model_name": "FloatProgressModel",
            "bar_style": "success",
            "max": 3101,
            "_view_module": "@jupyter-widgets/controls",
            "_model_module_version": "1.5.0",
            "value": 3101,
            "_view_count": null,
            "_view_module_version": "1.5.0",
            "orientation": "horizontal",
            "min": 0,
            "description_tooltip": null,
            "_model_module": "@jupyter-widgets/controls",
            "layout": "IPY_MODEL_d69c1feba0d64a0aaffcc04088854d51"
          },
          "model_module_version": "1.5.0"
        },
        "d4a852d41a174d5ab630e7336d143bf2": {
          "model_module": "@jupyter-widgets/controls",
          "model_name": "HTMLModel",
          "state": {
            "_view_name": "HTMLView",
            "style": "IPY_MODEL_fdf60dd16d2f4e6ab359a055d1e34726",
            "_dom_classes": [],
            "description": "",
            "_model_name": "HTMLModel",
            "placeholder": "​",
            "_view_module": "@jupyter-widgets/controls",
            "_model_module_version": "1.5.0",
            "value": " 3.10k/3.10k [00:00&lt;00:00, 23.0kB/s]",
            "_view_count": null,
            "_view_module_version": "1.5.0",
            "description_tooltip": null,
            "_model_module": "@jupyter-widgets/controls",
            "layout": "IPY_MODEL_2b283a76975e4165a5a6877d03ba9d60"
          },
          "model_module_version": "1.5.0"
        },
        "55a167521a56427ca879a63ddddda90e": {
          "model_module": "@jupyter-widgets/controls",
          "model_name": "ProgressStyleModel",
          "state": {
            "_view_name": "StyleView",
            "_model_name": "ProgressStyleModel",
            "description_width": "initial",
            "_view_module": "@jupyter-widgets/base",
            "_model_module_version": "1.5.0",
            "_view_count": null,
            "_view_module_version": "1.2.0",
            "bar_color": null,
            "_model_module": "@jupyter-widgets/controls"
          },
          "model_module_version": "1.5.0"
        },
        "d69c1feba0d64a0aaffcc04088854d51": {
          "model_module": "@jupyter-widgets/base",
          "model_name": "LayoutModel",
          "state": {
            "_view_name": "LayoutView",
            "grid_template_rows": null,
            "right": null,
            "justify_content": null,
            "_view_module": "@jupyter-widgets/base",
            "overflow": null,
            "_model_module_version": "1.2.0",
            "_view_count": null,
            "flex_flow": null,
            "width": null,
            "min_width": null,
            "border": null,
            "align_items": null,
            "bottom": null,
            "_model_module": "@jupyter-widgets/base",
            "top": null,
            "grid_column": null,
            "overflow_y": null,
            "overflow_x": null,
            "grid_auto_flow": null,
            "grid_area": null,
            "grid_template_columns": null,
            "flex": null,
            "_model_name": "LayoutModel",
            "justify_items": null,
            "grid_row": null,
            "max_height": null,
            "align_content": null,
            "visibility": null,
            "align_self": null,
            "height": null,
            "min_height": null,
            "padding": null,
            "grid_auto_rows": null,
            "grid_gap": null,
            "max_width": null,
            "order": null,
            "_view_module_version": "1.2.0",
            "grid_template_areas": null,
            "object_position": null,
            "object_fit": null,
            "grid_auto_columns": null,
            "margin": null,
            "display": null,
            "left": null
          },
          "model_module_version": "1.2.0"
        },
        "fdf60dd16d2f4e6ab359a055d1e34726": {
          "model_module": "@jupyter-widgets/controls",
          "model_name": "DescriptionStyleModel",
          "state": {
            "_view_name": "StyleView",
            "_model_name": "DescriptionStyleModel",
            "description_width": "",
            "_view_module": "@jupyter-widgets/base",
            "_model_module_version": "1.5.0",
            "_view_count": null,
            "_view_module_version": "1.2.0",
            "_model_module": "@jupyter-widgets/controls"
          },
          "model_module_version": "1.5.0"
        },
        "2b283a76975e4165a5a6877d03ba9d60": {
          "model_module": "@jupyter-widgets/base",
          "model_name": "LayoutModel",
          "state": {
            "_view_name": "LayoutView",
            "grid_template_rows": null,
            "right": null,
            "justify_content": null,
            "_view_module": "@jupyter-widgets/base",
            "overflow": null,
            "_model_module_version": "1.2.0",
            "_view_count": null,
            "flex_flow": null,
            "width": null,
            "min_width": null,
            "border": null,
            "align_items": null,
            "bottom": null,
            "_model_module": "@jupyter-widgets/base",
            "top": null,
            "grid_column": null,
            "overflow_y": null,
            "overflow_x": null,
            "grid_auto_flow": null,
            "grid_area": null,
            "grid_template_columns": null,
            "flex": null,
            "_model_name": "LayoutModel",
            "justify_items": null,
            "grid_row": null,
            "max_height": null,
            "align_content": null,
            "visibility": null,
            "align_self": null,
            "height": null,
            "min_height": null,
            "padding": null,
            "grid_auto_rows": null,
            "grid_gap": null,
            "max_width": null,
            "order": null,
            "_view_module_version": "1.2.0",
            "grid_template_areas": null,
            "object_position": null,
            "object_fit": null,
            "grid_auto_columns": null,
            "margin": null,
            "display": null,
            "left": null
          },
          "model_module_version": "1.2.0"
        },
        "603f80e0ab6f41b3afe3fb6ac0d0aa55": {
          "model_module": "@jupyter-widgets/controls",
          "model_name": "HBoxModel",
          "state": {
            "_view_name": "HBoxView",
            "_dom_classes": [],
            "_model_name": "HBoxModel",
            "_view_module": "@jupyter-widgets/controls",
            "_model_module_version": "1.5.0",
            "_view_count": null,
            "_view_module_version": "1.5.0",
            "box_style": "",
            "layout": "IPY_MODEL_41d69910b8ba45cf9269d0272e2c6a43",
            "_model_module": "@jupyter-widgets/controls",
            "children": [
              "IPY_MODEL_89fdab93504840cfb9f56115ec560b8a",
              "IPY_MODEL_531e645f608b4e09a2a060b6e47b4883"
            ]
          },
          "model_module_version": "1.5.0"
        },
        "41d69910b8ba45cf9269d0272e2c6a43": {
          "model_module": "@jupyter-widgets/base",
          "model_name": "LayoutModel",
          "state": {
            "_view_name": "LayoutView",
            "grid_template_rows": null,
            "right": null,
            "justify_content": null,
            "_view_module": "@jupyter-widgets/base",
            "overflow": null,
            "_model_module_version": "1.2.0",
            "_view_count": null,
            "flex_flow": null,
            "width": null,
            "min_width": null,
            "border": null,
            "align_items": null,
            "bottom": null,
            "_model_module": "@jupyter-widgets/base",
            "top": null,
            "grid_column": null,
            "overflow_y": null,
            "overflow_x": null,
            "grid_auto_flow": null,
            "grid_area": null,
            "grid_template_columns": null,
            "flex": null,
            "_model_name": "LayoutModel",
            "justify_items": null,
            "grid_row": null,
            "max_height": null,
            "align_content": null,
            "visibility": null,
            "align_self": null,
            "height": null,
            "min_height": null,
            "padding": null,
            "grid_auto_rows": null,
            "grid_gap": null,
            "max_width": null,
            "order": null,
            "_view_module_version": "1.2.0",
            "grid_template_areas": null,
            "object_position": null,
            "object_fit": null,
            "grid_auto_columns": null,
            "margin": null,
            "display": null,
            "left": null
          },
          "model_module_version": "1.2.0"
        },
        "89fdab93504840cfb9f56115ec560b8a": {
          "model_module": "@jupyter-widgets/controls",
          "model_name": "FloatProgressModel",
          "state": {
            "_view_name": "ProgressView",
            "style": "IPY_MODEL_2bf58cdc7eb1428985b74a3ee421ab26",
            "_dom_classes": [],
            "description": "Downloading: 100%",
            "_model_name": "FloatProgressModel",
            "bar_style": "success",
            "max": 1110067033,
            "_view_module": "@jupyter-widgets/controls",
            "_model_module_version": "1.5.0",
            "value": 1110067033,
            "_view_count": null,
            "_view_module_version": "1.5.0",
            "orientation": "horizontal",
            "min": 0,
            "description_tooltip": null,
            "_model_module": "@jupyter-widgets/controls",
            "layout": "IPY_MODEL_6ed46b9a91f24d98a57ca15c75a2741b"
          },
          "model_module_version": "1.5.0"
        },
        "531e645f608b4e09a2a060b6e47b4883": {
          "model_module": "@jupyter-widgets/controls",
          "model_name": "HTMLModel",
          "state": {
            "_view_name": "HTMLView",
            "style": "IPY_MODEL_ac656c524f7a43f8b6f9ffc63a805521",
            "_dom_classes": [],
            "description": "",
            "_model_name": "HTMLModel",
            "placeholder": "​",
            "_view_module": "@jupyter-widgets/controls",
            "_model_module_version": "1.5.0",
            "value": " 1.11G/1.11G [00:16&lt;00:00, 67.3MB/s]",
            "_view_count": null,
            "_view_module_version": "1.5.0",
            "description_tooltip": null,
            "_model_module": "@jupyter-widgets/controls",
            "layout": "IPY_MODEL_5c5b033950454231ae18812e15a0b07d"
          },
          "model_module_version": "1.5.0"
        },
        "2bf58cdc7eb1428985b74a3ee421ab26": {
          "model_module": "@jupyter-widgets/controls",
          "model_name": "ProgressStyleModel",
          "state": {
            "_view_name": "StyleView",
            "_model_name": "ProgressStyleModel",
            "description_width": "initial",
            "_view_module": "@jupyter-widgets/base",
            "_model_module_version": "1.5.0",
            "_view_count": null,
            "_view_module_version": "1.2.0",
            "bar_color": null,
            "_model_module": "@jupyter-widgets/controls"
          },
          "model_module_version": "1.5.0"
        },
        "6ed46b9a91f24d98a57ca15c75a2741b": {
          "model_module": "@jupyter-widgets/base",
          "model_name": "LayoutModel",
          "state": {
            "_view_name": "LayoutView",
            "grid_template_rows": null,
            "right": null,
            "justify_content": null,
            "_view_module": "@jupyter-widgets/base",
            "overflow": null,
            "_model_module_version": "1.2.0",
            "_view_count": null,
            "flex_flow": null,
            "width": null,
            "min_width": null,
            "border": null,
            "align_items": null,
            "bottom": null,
            "_model_module": "@jupyter-widgets/base",
            "top": null,
            "grid_column": null,
            "overflow_y": null,
            "overflow_x": null,
            "grid_auto_flow": null,
            "grid_area": null,
            "grid_template_columns": null,
            "flex": null,
            "_model_name": "LayoutModel",
            "justify_items": null,
            "grid_row": null,
            "max_height": null,
            "align_content": null,
            "visibility": null,
            "align_self": null,
            "height": null,
            "min_height": null,
            "padding": null,
            "grid_auto_rows": null,
            "grid_gap": null,
            "max_width": null,
            "order": null,
            "_view_module_version": "1.2.0",
            "grid_template_areas": null,
            "object_position": null,
            "object_fit": null,
            "grid_auto_columns": null,
            "margin": null,
            "display": null,
            "left": null
          },
          "model_module_version": "1.2.0"
        },
        "ac656c524f7a43f8b6f9ffc63a805521": {
          "model_module": "@jupyter-widgets/controls",
          "model_name": "DescriptionStyleModel",
          "state": {
            "_view_name": "StyleView",
            "_model_name": "DescriptionStyleModel",
            "description_width": "",
            "_view_module": "@jupyter-widgets/base",
            "_model_module_version": "1.5.0",
            "_view_count": null,
            "_view_module_version": "1.2.0",
            "_model_module": "@jupyter-widgets/controls"
          },
          "model_module_version": "1.5.0"
        },
        "5c5b033950454231ae18812e15a0b07d": {
          "model_module": "@jupyter-widgets/base",
          "model_name": "LayoutModel",
          "state": {
            "_view_name": "LayoutView",
            "grid_template_rows": null,
            "right": null,
            "justify_content": null,
            "_view_module": "@jupyter-widgets/base",
            "overflow": null,
            "_model_module_version": "1.2.0",
            "_view_count": null,
            "flex_flow": null,
            "width": null,
            "min_width": null,
            "border": null,
            "align_items": null,
            "bottom": null,
            "_model_module": "@jupyter-widgets/base",
            "top": null,
            "grid_column": null,
            "overflow_y": null,
            "overflow_x": null,
            "grid_auto_flow": null,
            "grid_area": null,
            "grid_template_columns": null,
            "flex": null,
            "_model_name": "LayoutModel",
            "justify_items": null,
            "grid_row": null,
            "max_height": null,
            "align_content": null,
            "visibility": null,
            "align_self": null,
            "height": null,
            "min_height": null,
            "padding": null,
            "grid_auto_rows": null,
            "grid_gap": null,
            "max_width": null,
            "order": null,
            "_view_module_version": "1.2.0",
            "grid_template_areas": null,
            "object_position": null,
            "object_fit": null,
            "grid_auto_columns": null,
            "margin": null,
            "display": null,
            "left": null
          },
          "model_module_version": "1.2.0"
        },
        "69bf3439912e4e0c8a9bf82d3af9aa9d": {
          "model_module": "@jupyter-widgets/controls",
          "model_name": "HBoxModel",
          "state": {
            "_view_name": "HBoxView",
            "_dom_classes": [],
            "_model_name": "HBoxModel",
            "_view_module": "@jupyter-widgets/controls",
            "_model_module_version": "1.5.0",
            "_view_count": null,
            "_view_module_version": "1.5.0",
            "box_style": "",
            "layout": "IPY_MODEL_671acb98b7144f2f8b9634e1eb2d6942",
            "_model_module": "@jupyter-widgets/controls",
            "children": [
              "IPY_MODEL_a380d0cb963e4dd5ba0df6466268742c",
              "IPY_MODEL_10c8bb1157444dc4af715e4e6665bc06"
            ]
          },
          "model_module_version": "1.5.0"
        },
        "671acb98b7144f2f8b9634e1eb2d6942": {
          "model_module": "@jupyter-widgets/base",
          "model_name": "LayoutModel",
          "state": {
            "_view_name": "LayoutView",
            "grid_template_rows": null,
            "right": null,
            "justify_content": null,
            "_view_module": "@jupyter-widgets/base",
            "overflow": null,
            "_model_module_version": "1.2.0",
            "_view_count": null,
            "flex_flow": null,
            "width": null,
            "min_width": null,
            "border": null,
            "align_items": null,
            "bottom": null,
            "_model_module": "@jupyter-widgets/base",
            "top": null,
            "grid_column": null,
            "overflow_y": null,
            "overflow_x": null,
            "grid_auto_flow": null,
            "grid_area": null,
            "grid_template_columns": null,
            "flex": null,
            "_model_name": "LayoutModel",
            "justify_items": null,
            "grid_row": null,
            "max_height": null,
            "align_content": null,
            "visibility": null,
            "align_self": null,
            "height": null,
            "min_height": null,
            "padding": null,
            "grid_auto_rows": null,
            "grid_gap": null,
            "max_width": null,
            "order": null,
            "_view_module_version": "1.2.0",
            "grid_template_areas": null,
            "object_position": null,
            "object_fit": null,
            "grid_auto_columns": null,
            "margin": null,
            "display": null,
            "left": null
          },
          "model_module_version": "1.2.0"
        },
        "a380d0cb963e4dd5ba0df6466268742c": {
          "model_module": "@jupyter-widgets/controls",
          "model_name": "FloatProgressModel",
          "state": {
            "_view_name": "ProgressView",
            "style": "IPY_MODEL_00f82856e8664251a8d2d426b186fe38",
            "_dom_classes": [],
            "description": "Downloading: 100%",
            "_model_name": "FloatProgressModel",
            "bar_style": "success",
            "max": 5069051,
            "_view_module": "@jupyter-widgets/controls",
            "_model_module_version": "1.5.0",
            "value": 5069051,
            "_view_count": null,
            "_view_module_version": "1.5.0",
            "orientation": "horizontal",
            "min": 0,
            "description_tooltip": null,
            "_model_module": "@jupyter-widgets/controls",
            "layout": "IPY_MODEL_8dd2e8a51d294e1691bb4c5c5e88aeb6"
          },
          "model_module_version": "1.5.0"
        },
        "10c8bb1157444dc4af715e4e6665bc06": {
          "model_module": "@jupyter-widgets/controls",
          "model_name": "HTMLModel",
          "state": {
            "_view_name": "HTMLView",
            "style": "IPY_MODEL_5b578cfbd03f48d290d6a3cc3f8fdcba",
            "_dom_classes": [],
            "description": "",
            "_model_name": "HTMLModel",
            "placeholder": "​",
            "_view_module": "@jupyter-widgets/controls",
            "_model_module_version": "1.5.0",
            "value": " 5.07M/5.07M [00:01&lt;00:00, 3.27MB/s]",
            "_view_count": null,
            "_view_module_version": "1.5.0",
            "description_tooltip": null,
            "_model_module": "@jupyter-widgets/controls",
            "layout": "IPY_MODEL_beb0338398b54663a1026b8f0baf2d2c"
          },
          "model_module_version": "1.5.0"
        },
        "00f82856e8664251a8d2d426b186fe38": {
          "model_module": "@jupyter-widgets/controls",
          "model_name": "ProgressStyleModel",
          "state": {
            "_view_name": "StyleView",
            "_model_name": "ProgressStyleModel",
            "description_width": "initial",
            "_view_module": "@jupyter-widgets/base",
            "_model_module_version": "1.5.0",
            "_view_count": null,
            "_view_module_version": "1.2.0",
            "bar_color": null,
            "_model_module": "@jupyter-widgets/controls"
          },
          "model_module_version": "1.5.0"
        },
        "8dd2e8a51d294e1691bb4c5c5e88aeb6": {
          "model_module": "@jupyter-widgets/base",
          "model_name": "LayoutModel",
          "state": {
            "_view_name": "LayoutView",
            "grid_template_rows": null,
            "right": null,
            "justify_content": null,
            "_view_module": "@jupyter-widgets/base",
            "overflow": null,
            "_model_module_version": "1.2.0",
            "_view_count": null,
            "flex_flow": null,
            "width": null,
            "min_width": null,
            "border": null,
            "align_items": null,
            "bottom": null,
            "_model_module": "@jupyter-widgets/base",
            "top": null,
            "grid_column": null,
            "overflow_y": null,
            "overflow_x": null,
            "grid_auto_flow": null,
            "grid_area": null,
            "grid_template_columns": null,
            "flex": null,
            "_model_name": "LayoutModel",
            "justify_items": null,
            "grid_row": null,
            "max_height": null,
            "align_content": null,
            "visibility": null,
            "align_self": null,
            "height": null,
            "min_height": null,
            "padding": null,
            "grid_auto_rows": null,
            "grid_gap": null,
            "max_width": null,
            "order": null,
            "_view_module_version": "1.2.0",
            "grid_template_areas": null,
            "object_position": null,
            "object_fit": null,
            "grid_auto_columns": null,
            "margin": null,
            "display": null,
            "left": null
          },
          "model_module_version": "1.2.0"
        },
        "5b578cfbd03f48d290d6a3cc3f8fdcba": {
          "model_module": "@jupyter-widgets/controls",
          "model_name": "DescriptionStyleModel",
          "state": {
            "_view_name": "StyleView",
            "_model_name": "DescriptionStyleModel",
            "description_width": "",
            "_view_module": "@jupyter-widgets/base",
            "_model_module_version": "1.5.0",
            "_view_count": null,
            "_view_module_version": "1.2.0",
            "_model_module": "@jupyter-widgets/controls"
          },
          "model_module_version": "1.5.0"
        },
        "beb0338398b54663a1026b8f0baf2d2c": {
          "model_module": "@jupyter-widgets/base",
          "model_name": "LayoutModel",
          "state": {
            "_view_name": "LayoutView",
            "grid_template_rows": null,
            "right": null,
            "justify_content": null,
            "_view_module": "@jupyter-widgets/base",
            "overflow": null,
            "_model_module_version": "1.2.0",
            "_view_count": null,
            "flex_flow": null,
            "width": null,
            "min_width": null,
            "border": null,
            "align_items": null,
            "bottom": null,
            "_model_module": "@jupyter-widgets/base",
            "top": null,
            "grid_column": null,
            "overflow_y": null,
            "overflow_x": null,
            "grid_auto_flow": null,
            "grid_area": null,
            "grid_template_columns": null,
            "flex": null,
            "_model_name": "LayoutModel",
            "justify_items": null,
            "grid_row": null,
            "max_height": null,
            "align_content": null,
            "visibility": null,
            "align_self": null,
            "height": null,
            "min_height": null,
            "padding": null,
            "grid_auto_rows": null,
            "grid_gap": null,
            "max_width": null,
            "order": null,
            "_view_module_version": "1.2.0",
            "grid_template_areas": null,
            "object_position": null,
            "object_fit": null,
            "grid_auto_columns": null,
            "margin": null,
            "display": null,
            "left": null
          },
          "model_module_version": "1.2.0"
        },
        "03c302a0bc464c828cdd175fad329fe4": {
          "model_module": "@jupyter-widgets/controls",
          "model_name": "HBoxModel",
          "state": {
            "_view_name": "HBoxView",
            "_dom_classes": [],
            "_model_name": "HBoxModel",
            "_view_module": "@jupyter-widgets/controls",
            "_model_module_version": "1.5.0",
            "_view_count": null,
            "_view_module_version": "1.5.0",
            "box_style": "",
            "layout": "IPY_MODEL_3cf74942f28d4b119fc91a43e07da7a2",
            "_model_module": "@jupyter-widgets/controls",
            "children": [
              "IPY_MODEL_6e90b70783394522aa1127f5efde6ce3",
              "IPY_MODEL_dbff45006590496cb785a02afec006ac"
            ]
          },
          "model_module_version": "1.5.0"
        },
        "3cf74942f28d4b119fc91a43e07da7a2": {
          "model_module": "@jupyter-widgets/base",
          "model_name": "LayoutModel",
          "state": {
            "_view_name": "LayoutView",
            "grid_template_rows": null,
            "right": null,
            "justify_content": null,
            "_view_module": "@jupyter-widgets/base",
            "overflow": null,
            "_model_module_version": "1.2.0",
            "_view_count": null,
            "flex_flow": null,
            "width": null,
            "min_width": null,
            "border": null,
            "align_items": null,
            "bottom": null,
            "_model_module": "@jupyter-widgets/base",
            "top": null,
            "grid_column": null,
            "overflow_y": null,
            "overflow_x": null,
            "grid_auto_flow": null,
            "grid_area": null,
            "grid_template_columns": null,
            "flex": null,
            "_model_name": "LayoutModel",
            "justify_items": null,
            "grid_row": null,
            "max_height": null,
            "align_content": null,
            "visibility": null,
            "align_self": null,
            "height": null,
            "min_height": null,
            "padding": null,
            "grid_auto_rows": null,
            "grid_gap": null,
            "max_width": null,
            "order": null,
            "_view_module_version": "1.2.0",
            "grid_template_areas": null,
            "object_position": null,
            "object_fit": null,
            "grid_auto_columns": null,
            "margin": null,
            "display": null,
            "left": null
          },
          "model_module_version": "1.2.0"
        },
        "6e90b70783394522aa1127f5efde6ce3": {
          "model_module": "@jupyter-widgets/controls",
          "model_name": "FloatProgressModel",
          "state": {
            "_view_name": "ProgressView",
            "style": "IPY_MODEL_876c006fda2f4aa28f76b5802b497471",
            "_dom_classes": [],
            "description": "Downloading: 100%",
            "_model_name": "FloatProgressModel",
            "bar_style": "success",
            "max": 150,
            "_view_module": "@jupyter-widgets/controls",
            "_model_module_version": "1.5.0",
            "value": 150,
            "_view_count": null,
            "_view_module_version": "1.5.0",
            "orientation": "horizontal",
            "min": 0,
            "description_tooltip": null,
            "_model_module": "@jupyter-widgets/controls",
            "layout": "IPY_MODEL_681ce580cb2f42e7a3dc4358a2498e92"
          },
          "model_module_version": "1.5.0"
        },
        "dbff45006590496cb785a02afec006ac": {
          "model_module": "@jupyter-widgets/controls",
          "model_name": "HTMLModel",
          "state": {
            "_view_name": "HTMLView",
            "style": "IPY_MODEL_9088684970ac4dc19540d527a2de9f6d",
            "_dom_classes": [],
            "description": "",
            "_model_name": "HTMLModel",
            "placeholder": "​",
            "_view_module": "@jupyter-widgets/controls",
            "_model_module_version": "1.5.0",
            "value": " 150/150 [00:00&lt;00:00, 158B/s]",
            "_view_count": null,
            "_view_module_version": "1.5.0",
            "description_tooltip": null,
            "_model_module": "@jupyter-widgets/controls",
            "layout": "IPY_MODEL_a4e19affcd994d75b8822309bfaffe32"
          },
          "model_module_version": "1.5.0"
        },
        "876c006fda2f4aa28f76b5802b497471": {
          "model_module": "@jupyter-widgets/controls",
          "model_name": "ProgressStyleModel",
          "state": {
            "_view_name": "StyleView",
            "_model_name": "ProgressStyleModel",
            "description_width": "initial",
            "_view_module": "@jupyter-widgets/base",
            "_model_module_version": "1.5.0",
            "_view_count": null,
            "_view_module_version": "1.2.0",
            "bar_color": null,
            "_model_module": "@jupyter-widgets/controls"
          },
          "model_module_version": "1.5.0"
        },
        "681ce580cb2f42e7a3dc4358a2498e92": {
          "model_module": "@jupyter-widgets/base",
          "model_name": "LayoutModel",
          "state": {
            "_view_name": "LayoutView",
            "grid_template_rows": null,
            "right": null,
            "justify_content": null,
            "_view_module": "@jupyter-widgets/base",
            "overflow": null,
            "_model_module_version": "1.2.0",
            "_view_count": null,
            "flex_flow": null,
            "width": null,
            "min_width": null,
            "border": null,
            "align_items": null,
            "bottom": null,
            "_model_module": "@jupyter-widgets/base",
            "top": null,
            "grid_column": null,
            "overflow_y": null,
            "overflow_x": null,
            "grid_auto_flow": null,
            "grid_area": null,
            "grid_template_columns": null,
            "flex": null,
            "_model_name": "LayoutModel",
            "justify_items": null,
            "grid_row": null,
            "max_height": null,
            "align_content": null,
            "visibility": null,
            "align_self": null,
            "height": null,
            "min_height": null,
            "padding": null,
            "grid_auto_rows": null,
            "grid_gap": null,
            "max_width": null,
            "order": null,
            "_view_module_version": "1.2.0",
            "grid_template_areas": null,
            "object_position": null,
            "object_fit": null,
            "grid_auto_columns": null,
            "margin": null,
            "display": null,
            "left": null
          },
          "model_module_version": "1.2.0"
        },
        "9088684970ac4dc19540d527a2de9f6d": {
          "model_module": "@jupyter-widgets/controls",
          "model_name": "DescriptionStyleModel",
          "state": {
            "_view_name": "StyleView",
            "_model_name": "DescriptionStyleModel",
            "description_width": "",
            "_view_module": "@jupyter-widgets/base",
            "_model_module_version": "1.5.0",
            "_view_count": null,
            "_view_module_version": "1.2.0",
            "_model_module": "@jupyter-widgets/controls"
          },
          "model_module_version": "1.5.0"
        },
        "a4e19affcd994d75b8822309bfaffe32": {
          "model_module": "@jupyter-widgets/base",
          "model_name": "LayoutModel",
          "state": {
            "_view_name": "LayoutView",
            "grid_template_rows": null,
            "right": null,
            "justify_content": null,
            "_view_module": "@jupyter-widgets/base",
            "overflow": null,
            "_model_module_version": "1.2.0",
            "_view_count": null,
            "flex_flow": null,
            "width": null,
            "min_width": null,
            "border": null,
            "align_items": null,
            "bottom": null,
            "_model_module": "@jupyter-widgets/base",
            "top": null,
            "grid_column": null,
            "overflow_y": null,
            "overflow_x": null,
            "grid_auto_flow": null,
            "grid_area": null,
            "grid_template_columns": null,
            "flex": null,
            "_model_name": "LayoutModel",
            "justify_items": null,
            "grid_row": null,
            "max_height": null,
            "align_content": null,
            "visibility": null,
            "align_self": null,
            "height": null,
            "min_height": null,
            "padding": null,
            "grid_auto_rows": null,
            "grid_gap": null,
            "max_width": null,
            "order": null,
            "_view_module_version": "1.2.0",
            "grid_template_areas": null,
            "object_position": null,
            "object_fit": null,
            "grid_auto_columns": null,
            "margin": null,
            "display": null,
            "left": null
          },
          "model_module_version": "1.2.0"
        },
        "6cc65e33030947a488b6e63a215a6101": {
          "model_module": "@jupyter-widgets/controls",
          "model_name": "HBoxModel",
          "state": {
            "_view_name": "HBoxView",
            "_dom_classes": [],
            "_model_name": "HBoxModel",
            "_view_module": "@jupyter-widgets/controls",
            "_model_module_version": "1.5.0",
            "_view_count": null,
            "_view_module_version": "1.5.0",
            "box_style": "",
            "layout": "IPY_MODEL_77abf1a77acd4ec2ac3103a5015dcc07",
            "_model_module": "@jupyter-widgets/controls",
            "children": [
              "IPY_MODEL_0a619a8d0ef2430aa07e5bfb523e7b2b",
              "IPY_MODEL_ec36cfb2d3ae4b97bb02817929cb1352"
            ]
          },
          "model_module_version": "1.5.0"
        },
        "77abf1a77acd4ec2ac3103a5015dcc07": {
          "model_module": "@jupyter-widgets/base",
          "model_name": "LayoutModel",
          "state": {
            "_view_name": "LayoutView",
            "grid_template_rows": null,
            "right": null,
            "justify_content": null,
            "_view_module": "@jupyter-widgets/base",
            "overflow": null,
            "_model_module_version": "1.2.0",
            "_view_count": null,
            "flex_flow": null,
            "width": null,
            "min_width": null,
            "border": null,
            "align_items": null,
            "bottom": null,
            "_model_module": "@jupyter-widgets/base",
            "top": null,
            "grid_column": null,
            "overflow_y": null,
            "overflow_x": null,
            "grid_auto_flow": null,
            "grid_area": null,
            "grid_template_columns": null,
            "flex": null,
            "_model_name": "LayoutModel",
            "justify_items": null,
            "grid_row": null,
            "max_height": null,
            "align_content": null,
            "visibility": null,
            "align_self": null,
            "height": null,
            "min_height": null,
            "padding": null,
            "grid_auto_rows": null,
            "grid_gap": null,
            "max_width": null,
            "order": null,
            "_view_module_version": "1.2.0",
            "grid_template_areas": null,
            "object_position": null,
            "object_fit": null,
            "grid_auto_columns": null,
            "margin": null,
            "display": null,
            "left": null
          },
          "model_module_version": "1.2.0"
        },
        "0a619a8d0ef2430aa07e5bfb523e7b2b": {
          "model_module": "@jupyter-widgets/controls",
          "model_name": "FloatProgressModel",
          "state": {
            "_view_name": "ProgressView",
            "style": "IPY_MODEL_b169c6dbf8f345109c4c26bec901a36a",
            "_dom_classes": [],
            "description": "Downloading: 100%",
            "_model_name": "FloatProgressModel",
            "bar_style": "success",
            "max": 211,
            "_view_module": "@jupyter-widgets/controls",
            "_model_module_version": "1.5.0",
            "value": 211,
            "_view_count": null,
            "_view_module_version": "1.5.0",
            "orientation": "horizontal",
            "min": 0,
            "description_tooltip": null,
            "_model_module": "@jupyter-widgets/controls",
            "layout": "IPY_MODEL_f6b5fae75e17463c8d49c92cd7ebc460"
          },
          "model_module_version": "1.5.0"
        },
        "ec36cfb2d3ae4b97bb02817929cb1352": {
          "model_module": "@jupyter-widgets/controls",
          "model_name": "HTMLModel",
          "state": {
            "_view_name": "HTMLView",
            "style": "IPY_MODEL_9b2016f4582346218ad01501e090d4e8",
            "_dom_classes": [],
            "description": "",
            "_model_name": "HTMLModel",
            "placeholder": "​",
            "_view_module": "@jupyter-widgets/controls",
            "_model_module_version": "1.5.0",
            "value": " 211/211 [00:00&lt;00:00, 300B/s]",
            "_view_count": null,
            "_view_module_version": "1.5.0",
            "description_tooltip": null,
            "_model_module": "@jupyter-widgets/controls",
            "layout": "IPY_MODEL_bf1f1c2a0acb46b99f5874f987ac777e"
          },
          "model_module_version": "1.5.0"
        },
        "b169c6dbf8f345109c4c26bec901a36a": {
          "model_module": "@jupyter-widgets/controls",
          "model_name": "ProgressStyleModel",
          "state": {
            "_view_name": "StyleView",
            "_model_name": "ProgressStyleModel",
            "description_width": "initial",
            "_view_module": "@jupyter-widgets/base",
            "_model_module_version": "1.5.0",
            "_view_count": null,
            "_view_module_version": "1.2.0",
            "bar_color": null,
            "_model_module": "@jupyter-widgets/controls"
          },
          "model_module_version": "1.5.0"
        },
        "f6b5fae75e17463c8d49c92cd7ebc460": {
          "model_module": "@jupyter-widgets/base",
          "model_name": "LayoutModel",
          "state": {
            "_view_name": "LayoutView",
            "grid_template_rows": null,
            "right": null,
            "justify_content": null,
            "_view_module": "@jupyter-widgets/base",
            "overflow": null,
            "_model_module_version": "1.2.0",
            "_view_count": null,
            "flex_flow": null,
            "width": null,
            "min_width": null,
            "border": null,
            "align_items": null,
            "bottom": null,
            "_model_module": "@jupyter-widgets/base",
            "top": null,
            "grid_column": null,
            "overflow_y": null,
            "overflow_x": null,
            "grid_auto_flow": null,
            "grid_area": null,
            "grid_template_columns": null,
            "flex": null,
            "_model_name": "LayoutModel",
            "justify_items": null,
            "grid_row": null,
            "max_height": null,
            "align_content": null,
            "visibility": null,
            "align_self": null,
            "height": null,
            "min_height": null,
            "padding": null,
            "grid_auto_rows": null,
            "grid_gap": null,
            "max_width": null,
            "order": null,
            "_view_module_version": "1.2.0",
            "grid_template_areas": null,
            "object_position": null,
            "object_fit": null,
            "grid_auto_columns": null,
            "margin": null,
            "display": null,
            "left": null
          },
          "model_module_version": "1.2.0"
        },
        "9b2016f4582346218ad01501e090d4e8": {
          "model_module": "@jupyter-widgets/controls",
          "model_name": "DescriptionStyleModel",
          "state": {
            "_view_name": "StyleView",
            "_model_name": "DescriptionStyleModel",
            "description_width": "",
            "_view_module": "@jupyter-widgets/base",
            "_model_module_version": "1.5.0",
            "_view_count": null,
            "_view_module_version": "1.2.0",
            "_model_module": "@jupyter-widgets/controls"
          },
          "model_module_version": "1.5.0"
        },
        "bf1f1c2a0acb46b99f5874f987ac777e": {
          "model_module": "@jupyter-widgets/base",
          "model_name": "LayoutModel",
          "state": {
            "_view_name": "LayoutView",
            "grid_template_rows": null,
            "right": null,
            "justify_content": null,
            "_view_module": "@jupyter-widgets/base",
            "overflow": null,
            "_model_module_version": "1.2.0",
            "_view_count": null,
            "flex_flow": null,
            "width": null,
            "min_width": null,
            "border": null,
            "align_items": null,
            "bottom": null,
            "_model_module": "@jupyter-widgets/base",
            "top": null,
            "grid_column": null,
            "overflow_y": null,
            "overflow_x": null,
            "grid_auto_flow": null,
            "grid_area": null,
            "grid_template_columns": null,
            "flex": null,
            "_model_name": "LayoutModel",
            "justify_items": null,
            "grid_row": null,
            "max_height": null,
            "align_content": null,
            "visibility": null,
            "align_self": null,
            "height": null,
            "min_height": null,
            "padding": null,
            "grid_auto_rows": null,
            "grid_gap": null,
            "max_width": null,
            "order": null,
            "_view_module_version": "1.2.0",
            "grid_template_areas": null,
            "object_position": null,
            "object_fit": null,
            "grid_auto_columns": null,
            "margin": null,
            "display": null,
            "left": null
          },
          "model_module_version": "1.2.0"
        }
      }
    }
  },
  "cells": [
    {
      "cell_type": "markdown",
      "metadata": {
        "id": "G9NXfbHGc8u1"
      },
      "source": [
        "# T-NER: Model Evaluation Example\n",
        "Notebook to describe model evaluation on NER dataset.\n",
        "See more info at the [T-NER](https://github.com/asahi417/tner).\n",
        "\n",
        "***Table of Contents***  \n",
        "- [Evaluation of released checkpoint](https://colab.research.google.com/drive/1jHVGnFN4AU8uS-ozWJIXXe2fV8HUj8NZ#scrollTo=7sUSplR4e3sJ&line=2&uniqifier=1)\n"
      ]
    },
    {
      "cell_type": "markdown",
      "metadata": {
        "id": "DRNnzlawMZff"
      },
      "source": [
        "### Setup"
      ]
    },
    {
      "cell_type": "code",
      "metadata": {
        "id": "Shi3GB03sBjh"
      },
      "source": [
        "# need to avoid version conflic on Colab notebook\n",
        "%pip install pip -U\n",
        "%pip install sentencepiece\n",
        "%pip install sortedcontainers==2.1.0"
      ],
      "execution_count": null,
      "outputs": []
    },
    {
      "cell_type": "code",
      "metadata": {
        "id": "DNv8_C9LMV1E"
      },
      "source": [
        "# main package\n",
        "%pip install tner"
      ],
      "execution_count": null,
      "outputs": []
    },
    {
      "cell_type": "markdown",
      "metadata": {
        "id": "7sUSplR4e3sJ"
      },
      "source": [
        "## Evaluation of released checkpoint\n",
        "We use a released checkpoint that has alredy been trained on NER, but one can use local checkpoint instead just by replacing `checkpoint_dir`."
      ]
    },
    {
      "cell_type": "code",
      "metadata": {
        "id": "HTaELbI2iEVy",
        "colab": {
          "base_uri": "https://localhost:8080/"
        },
        "outputId": "1a31b38f-87d5-4e22-87f6-427206824d0b"
      },
      "source": [
        "from tner import TrainTransformersNER\n",
        "trainer = TrainTransformersNER(checkpoint_dir='./ckpt_evaluation', transformers_model='asahi417/tner-xlm-roberta-base-all-english')"
      ],
      "execution_count": null,
      "outputs": [
        {
          "output_type": "stream",
          "text": [
            "2021-02-14 18:05:54 INFO     *** initialize network ***\n",
            "2021-02-14 18:05:54 INFO     load TNER finetuned checkpoint: asahi417/tner-xlm-roberta-base-all-english\n",
            "2021-02-14 18:05:54 INFO     removed incomplete checkpoint ./ckpt_evaluation\n",
            "2021-02-14 18:05:54 INFO     checkpoint: ./ckpt_evaluation\n",
            "2021-02-14 18:05:54 INFO      - [arg] dataset: None\n",
            "2021-02-14 18:05:54 INFO      - [arg] transformers_model: asahi417/tner-xlm-roberta-base-all-english\n",
            "2021-02-14 18:05:54 INFO      - [arg] random_seed: 1234\n",
            "2021-02-14 18:05:54 INFO      - [arg] lr: 1e-05\n",
            "2021-02-14 18:05:54 INFO      - [arg] total_step: 5000\n",
            "2021-02-14 18:05:54 INFO      - [arg] warmup_step: 700\n",
            "2021-02-14 18:05:54 INFO      - [arg] weight_decay: 1e-07\n",
            "2021-02-14 18:05:54 INFO      - [arg] batch_size: 32\n",
            "2021-02-14 18:05:54 INFO      - [arg] max_seq_length: 128\n",
            "2021-02-14 18:05:54 INFO      - [arg] fp16: False\n",
            "2021-02-14 18:05:54 INFO      - [arg] max_grad_norm: 1.0\n",
            "2021-02-14 18:05:54 INFO      - [arg] lower_case: False\n",
            "2021-02-14 18:05:54 INFO      - [arg] tner_config: {'dataset': ['conll2003', 'ontonotes5', 'bc5cdr', 'bionlp2004', 'fin', 'wnut2017', 'panx_dataset/en'], 'transformers_model': 'xlm-roberta-base', 'random_seed': 1234, 'lr': 1e-05, 'total_step': 15000, 'warmup_step': 700, 'weight_decay': 1e-07, 'batch_size': 32, 'max_seq_length': 128, 'fp16': False, 'max_grad_norm': 1.0, 'lower_case': False}\n"
          ],
          "name": "stderr"
        }
      ]
    },
    {
      "cell_type": "code",
      "metadata": {
        "id": "cn_LhZrziLNl",
        "colab": {
          "base_uri": "https://localhost:8080/",
          "height": 1000,
          "referenced_widgets": [
            "8992c461f4944ee0805b49c8c8bff113",
            "9f385dbf54e4454ba2053e1be22fe121",
            "7f23bcb4fb8e4d9097631372ab90eccf",
            "d4a852d41a174d5ab630e7336d143bf2",
            "55a167521a56427ca879a63ddddda90e",
            "d69c1feba0d64a0aaffcc04088854d51",
            "fdf60dd16d2f4e6ab359a055d1e34726",
            "2b283a76975e4165a5a6877d03ba9d60",
            "603f80e0ab6f41b3afe3fb6ac0d0aa55",
            "41d69910b8ba45cf9269d0272e2c6a43",
            "89fdab93504840cfb9f56115ec560b8a",
            "531e645f608b4e09a2a060b6e47b4883",
            "2bf58cdc7eb1428985b74a3ee421ab26",
            "6ed46b9a91f24d98a57ca15c75a2741b",
            "ac656c524f7a43f8b6f9ffc63a805521",
            "5c5b033950454231ae18812e15a0b07d",
            "69bf3439912e4e0c8a9bf82d3af9aa9d",
            "671acb98b7144f2f8b9634e1eb2d6942",
            "a380d0cb963e4dd5ba0df6466268742c",
            "10c8bb1157444dc4af715e4e6665bc06",
            "00f82856e8664251a8d2d426b186fe38",
            "8dd2e8a51d294e1691bb4c5c5e88aeb6",
            "5b578cfbd03f48d290d6a3cc3f8fdcba",
            "beb0338398b54663a1026b8f0baf2d2c",
            "03c302a0bc464c828cdd175fad329fe4",
            "3cf74942f28d4b119fc91a43e07da7a2",
            "6e90b70783394522aa1127f5efde6ce3",
            "dbff45006590496cb785a02afec006ac",
            "876c006fda2f4aa28f76b5802b497471",
            "681ce580cb2f42e7a3dc4358a2498e92",
            "9088684970ac4dc19540d527a2de9f6d",
            "a4e19affcd994d75b8822309bfaffe32",
            "6cc65e33030947a488b6e63a215a6101",
            "77abf1a77acd4ec2ac3103a5015dcc07",
            "0a619a8d0ef2430aa07e5bfb523e7b2b",
            "ec36cfb2d3ae4b97bb02817929cb1352",
            "b169c6dbf8f345109c4c26bec901a36a",
            "f6b5fae75e17463c8d49c92cd7ebc460",
            "9b2016f4582346218ad01501e090d4e8",
            "bf1f1c2a0acb46b99f5874f987ac777e"
          ]
        },
        "outputId": "a6da5f73-f28e-4665-bedd-2db5591f8241"
      },
      "source": [
        "# evaluation on CoNLL2003\n",
        "trainer.test('conll2003', batch_size_validation=1)"
      ],
      "execution_count": null,
      "outputs": [
        {
          "output_type": "stream",
          "text": [
            "2021-02-14 18:06:02 INFO     Lock 139839545251656 acquired on /root/.cache/huggingface/transformers/4b66a568a55bedcd765eddcd7f272b04096b19330129bea986398227037e24f5.8073b255513c627d9815cb8cc2592abcc0b54695a9e6a48dc13567def6e111d3.lock\n"
          ],
          "name": "stderr"
        },
        {
          "output_type": "display_data",
          "data": {
            "application/vnd.jupyter.widget-view+json": {
              "model_id": "8992c461f4944ee0805b49c8c8bff113",
              "version_minor": 0,
              "version_major": 2
            },
            "text/plain": [
              "HBox(children=(FloatProgress(value=0.0, description='Downloading', max=3101.0, style=ProgressStyle(description…"
            ]
          },
          "metadata": {
            "tags": []
          }
        },
        {
          "output_type": "stream",
          "text": [
            "2021-02-14 18:06:02 INFO     Lock 139839545251656 released on /root/.cache/huggingface/transformers/4b66a568a55bedcd765eddcd7f272b04096b19330129bea986398227037e24f5.8073b255513c627d9815cb8cc2592abcc0b54695a9e6a48dc13567def6e111d3.lock\n",
            "2021-02-14 18:06:02 INFO     Lock 139839467935952 acquired on /root/.cache/huggingface/transformers/bdbfc56c07c6da05d3b6dc2d649072fe2009cec9744f90d37c88117b7b360a45.78240f856c61d91e564940f6db691e8cffe3fb928df804aab76a5b2bf356903c.lock\n"
          ],
          "name": "stderr"
        },
        {
          "output_type": "stream",
          "text": [
            "\n"
          ],
          "name": "stdout"
        },
        {
          "output_type": "display_data",
          "data": {
            "application/vnd.jupyter.widget-view+json": {
              "model_id": "603f80e0ab6f41b3afe3fb6ac0d0aa55",
              "version_minor": 0,
              "version_major": 2
            },
            "text/plain": [
              "HBox(children=(FloatProgress(value=0.0, description='Downloading', max=1110067033.0, style=ProgressStyle(descr…"
            ]
          },
          "metadata": {
            "tags": []
          }
        },
        {
          "output_type": "stream",
          "text": [
            "2021-02-14 18:06:17 INFO     Lock 139839467935952 released on /root/.cache/huggingface/transformers/bdbfc56c07c6da05d3b6dc2d649072fe2009cec9744f90d37c88117b7b360a45.78240f856c61d91e564940f6db691e8cffe3fb928df804aab76a5b2bf356903c.lock\n"
          ],
          "name": "stderr"
        },
        {
          "output_type": "stream",
          "text": [
            "\n"
          ],
          "name": "stdout"
        },
        {
          "output_type": "stream",
          "text": [
            "2021-02-14 18:06:26 INFO     Lock 139839458340704 acquired on /root/.cache/huggingface/transformers/af7490973f4d3248713af1d7f4d8337f1bca5f6e2e20358ec4d843f58dc1e1ca.71e50b08dbe7e5375398e165096cacc3d2086119d6a449364490da6908de655e.lock\n"
          ],
          "name": "stderr"
        },
        {
          "output_type": "display_data",
          "data": {
            "application/vnd.jupyter.widget-view+json": {
              "model_id": "69bf3439912e4e0c8a9bf82d3af9aa9d",
              "version_minor": 0,
              "version_major": 2
            },
            "text/plain": [
              "HBox(children=(FloatProgress(value=0.0, description='Downloading', max=5069051.0, style=ProgressStyle(descript…"
            ]
          },
          "metadata": {
            "tags": []
          }
        },
        {
          "output_type": "stream",
          "text": [
            "2021-02-14 18:06:27 INFO     Lock 139839458340704 released on /root/.cache/huggingface/transformers/af7490973f4d3248713af1d7f4d8337f1bca5f6e2e20358ec4d843f58dc1e1ca.71e50b08dbe7e5375398e165096cacc3d2086119d6a449364490da6908de655e.lock\n"
          ],
          "name": "stderr"
        },
        {
          "output_type": "stream",
          "text": [
            "\n"
          ],
          "name": "stdout"
        },
        {
          "output_type": "stream",
          "text": [
            "2021-02-14 18:06:27 INFO     Lock 139848634598792 acquired on /root/.cache/huggingface/transformers/f53450f0c816bab6c820c15ad92696a769669a4c0e644a25171366d2865336a9.0dc5b1041f62041ebbd23b1297f2f573769d5c97d8b7c28180ec86b8f6185aa8.lock\n"
          ],
          "name": "stderr"
        },
        {
          "output_type": "display_data",
          "data": {
            "application/vnd.jupyter.widget-view+json": {
              "model_id": "03c302a0bc464c828cdd175fad329fe4",
              "version_minor": 0,
              "version_major": 2
            },
            "text/plain": [
              "HBox(children=(FloatProgress(value=0.0, description='Downloading', max=150.0, style=ProgressStyle(description_…"
            ]
          },
          "metadata": {
            "tags": []
          }
        },
        {
          "output_type": "stream",
          "text": [
            "2021-02-14 18:06:27 INFO     Lock 139848634598792 released on /root/.cache/huggingface/transformers/f53450f0c816bab6c820c15ad92696a769669a4c0e644a25171366d2865336a9.0dc5b1041f62041ebbd23b1297f2f573769d5c97d8b7c28180ec86b8f6185aa8.lock\n",
            "2021-02-14 18:06:27 INFO     Lock 139847659869912 acquired on /root/.cache/huggingface/transformers/5885e7c0d6446a1e42554b7fd39138b6928efec1564cb4f5f0090e93a2161c27.ce1ec7367d995911ec791a5762308b4e4bbda9dc206caca7636088f9c2bce1a2.lock\n"
          ],
          "name": "stderr"
        },
        {
          "output_type": "stream",
          "text": [
            "\n"
          ],
          "name": "stdout"
        },
        {
          "output_type": "display_data",
          "data": {
            "application/vnd.jupyter.widget-view+json": {
              "model_id": "6cc65e33030947a488b6e63a215a6101",
              "version_minor": 0,
              "version_major": 2
            },
            "text/plain": [
              "HBox(children=(FloatProgress(value=0.0, description='Downloading', max=211.0, style=ProgressStyle(description_…"
            ]
          },
          "metadata": {
            "tags": []
          }
        },
        {
          "output_type": "stream",
          "text": [
            "2021-02-14 18:06:27 INFO     Lock 139847659869912 released on /root/.cache/huggingface/transformers/5885e7c0d6446a1e42554b7fd39138b6928efec1564cb4f5f0090e93a2161c27.ce1ec7367d995911ec791a5762308b4e4bbda9dc206caca7636088f9c2bce1a2.lock\n"
          ],
          "name": "stderr"
        },
        {
          "output_type": "stream",
          "text": [
            "\n"
          ],
          "name": "stdout"
        },
        {
          "output_type": "stream",
          "text": [
            "2021-02-14 18:06:29 INFO     target dataset: ['conll2003']\n",
            "2021-02-14 18:06:29 INFO     data_name: conll2003\n",
            "2021-02-14 18:06:29 INFO     dataset /root/.cache/tner/conll2003/train.txt: 14041 entries\n",
            "2021-02-14 18:06:29 INFO     dataset /root/.cache/tner/conll2003/dev.txt: 3250 entries\n",
            "2021-02-14 18:06:29 INFO     dataset /root/.cache/tner/conll2003/test.txt: 3453 entries\n",
            "2021-02-14 18:06:30 INFO     running on 1 GPUs\n",
            "2021-02-14 18:06:39 INFO     testing model on conll2003\n",
            "2021-02-14 18:06:39 INFO     data_loader: ['valid', 'test']\n",
            "2021-02-14 18:07:26 INFO     [epoch 0] (valid) \n",
            "               precision    recall  f1-score   support\n",
            "\n",
            "    location       0.94      0.84      0.89      1837\n",
            "organization       0.84      0.90      0.87      1341\n",
            "       other       0.86      0.71      0.78       922\n",
            "      person       0.96      0.96      0.96      1825\n",
            "\n",
            "   micro avg       0.91      0.87      0.89      5925\n",
            "   macro avg       0.90      0.85      0.87      5925\n",
            "weighted avg       0.91      0.87      0.89      5925\n",
            "\n",
            "2021-02-14 18:08:16 INFO     [epoch 0] (test) \n",
            "               precision    recall  f1-score   support\n",
            "\n",
            "    location       0.91      0.83      0.87      1660\n",
            "organization       0.83      0.89      0.86      1661\n",
            "       other       0.75      0.70      0.72       702\n",
            "      person       0.95      0.95      0.95      1610\n",
            "\n",
            "   micro avg       0.88      0.87      0.87      5633\n",
            "   macro avg       0.86      0.84      0.85      5633\n",
            "weighted avg       0.88      0.87      0.87      5633\n",
            "\n",
            "2021-02-14 18:08:16 INFO     [test completed, 96.97 sec in total]\n",
            "2021-02-14 18:08:16 INFO     export metrics at: ./ckpt_evaluation/test_conll2003.json\n"
          ],
          "name": "stderr"
        }
      ]
    },
    {
      "cell_type": "code",
      "metadata": {
        "id": "fJ0LWpqNiUlC",
        "colab": {
          "base_uri": "https://localhost:8080/"
        },
        "outputId": "b674f1aa-6903-4e99-b8c6-09b6360905a7"
      },
      "source": [
        "# evaluation on OntoNotes5\n",
        "trainer.test('ontonotes5', batch_size_validation=1)"
      ],
      "execution_count": null,
      "outputs": [
        {
          "output_type": "stream",
          "text": [
            "2021-02-14 18:11:32 INFO     testing model on ontonotes5\n",
            "2021-02-14 18:11:32 INFO     data_loader: ['valid', 'test']\n",
            "2021-02-14 18:12:19 INFO     [epoch 0] (valid) \n",
            "               precision    recall  f1-score   support\n",
            "\n",
            "    location       0.94      0.84      0.89      1837\n",
            "organization       0.84      0.90      0.87      1341\n",
            "       other       0.86      0.71      0.78       922\n",
            "      person       0.96      0.96      0.96      1825\n",
            "\n",
            "   micro avg       0.91      0.87      0.89      5925\n",
            "   macro avg       0.90      0.85      0.87      5925\n",
            "weighted avg       0.91      0.87      0.89      5925\n",
            "\n",
            "2021-02-14 18:13:08 INFO     [epoch 0] (test) \n",
            "               precision    recall  f1-score   support\n",
            "\n",
            "    location       0.91      0.83      0.87      1660\n",
            "organization       0.83      0.89      0.86      1661\n",
            "       other       0.75      0.70      0.72       702\n",
            "      person       0.95      0.95      0.95      1610\n",
            "\n",
            "   micro avg       0.88      0.87      0.87      5633\n",
            "   macro avg       0.86      0.84      0.85      5633\n",
            "weighted avg       0.88      0.87      0.87      5633\n",
            "\n",
            "2021-02-14 18:13:08 INFO     [test completed, 96.68 sec in total]\n",
            "2021-02-14 18:13:08 INFO     export metrics at: ./ckpt_evaluation/test_ontonotes5.json\n"
          ],
          "name": "stderr"
        }
      ]
    },
    {
      "cell_type": "code",
      "metadata": {
        "id": "Ye6mL8mZiXU0",
        "colab": {
          "base_uri": "https://localhost:8080/"
        },
        "outputId": "50b6d17a-909c-4816-c2d5-085ead2c0861"
      },
      "source": [
        "# evaluation with span-detection\n",
        "trainer.test('conll2003', entity_span_prediction=True, batch_size_validation=1)"
      ],
      "execution_count": null,
      "outputs": [
        {
          "output_type": "stream",
          "text": [
            "2021-02-14 18:13:18 INFO     testing model on conll2003\n",
            "2021-02-14 18:13:18 INFO     data_loader: ['valid', 'test']\n",
            "2021-02-14 18:14:05 INFO     [epoch 0] (valid) \n",
            "               precision    recall  f1-score   support\n",
            "\n",
            "      entity       0.95      0.91      0.93      5925\n",
            "\n",
            "   micro avg       0.95      0.91      0.93      5925\n",
            "   macro avg       0.95      0.91      0.93      5925\n",
            "weighted avg       0.95      0.91      0.93      5925\n",
            "\n",
            "2021-02-14 18:14:54 INFO     [epoch 0] (test) \n",
            "               precision    recall  f1-score   support\n",
            "\n",
            "      entity       0.93      0.91      0.92      5633\n",
            "\n",
            "   micro avg       0.93      0.91      0.92      5633\n",
            "   macro avg       0.93      0.91      0.92      5633\n",
            "weighted avg       0.93      0.91      0.92      5633\n",
            "\n",
            "2021-02-14 18:14:54 INFO     [test completed, 96.58 sec in total]\n",
            "2021-02-14 18:14:54 INFO     export metrics at: ./ckpt_evaluation/test_conll2003_span.json\n"
          ],
          "name": "stderr"
        }
      ]
    }
  ]
}